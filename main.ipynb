{
 "cells": [
  {
   "cell_type": "code",
   "execution_count": null,
   "metadata": {},
   "outputs": [],
   "source": [
    "import os\n",
    "import random\n",
    "shild =(\"--__--__--__--__--__--__--\")\n",
    "#UPDATE NOTE: jupyter is back"
   ]
  },
  {
   "cell_type": "code",
   "execution_count": null,
   "metadata": {},
   "outputs": [],
   "source": [
    "def classic_password():\n",
    "    uppercase_letters = \"QWERTYUIOPASDFGHJKLZXCVBNM\"\n",
    "    lowercase_letters = \"qazwsxedcrfvtgbyhnujmikol\"\n",
    "    special_characters = \"!@#$%^&*\"\n",
    "    numbers = \"0123456789\"\n",
    "    all_chars = uppercase_letters + lowercase_letters + special_characters + numbers\n",
    "\n",
    "    length = int(input(\"Enter password length: \"))\n",
    "\n",
    "    password = \"\".join(random.sample(all_chars, length))\n",
    "\n",
    "    print(\"Your password: \", password)\n",
    "\n",
    "    accept = input(\"Do you accept this password? (y/n): \")\n",
    "\n",
    "    if accept == \"n\" or accept == \"no\":\n",
    "        classic_password()\n",
    "\n",
    "    elif accept == \"y\" or accept == \"yes\":\n",
    "        ne = input(\"If you want to write a name or email, write if, if you do not want to write it, write no: \")\n",
    "        if ne == \"n\" or ne == \"no\":\n",
    "            with open(\"passwords.txt\", \"a\") as f:\n",
    "                f.write(shild + \"\\n\" +\"password: \"+password + \"\\n\")\n",
    "            return\n",
    "        with open(\"passwords.txt\", \"a\") as f:\n",
    "                f.write(shild + \"\\n\" +\"name/email: \"+ne+\"\\n\"+\"password: \"+password + \"\\n\")"
   ]
  },
  {
   "cell_type": "code",
   "execution_count": null,
   "metadata": {},
   "outputs": [],
   "source": [
    "def unlimited():\n",
    "    uppercase_letters = \"QWERTYUIOPASDFGHJKLZXCVBNM\"\n",
    "    lowercase_letters = \"qazwsxedcrfvtgbyhnujmikol\"\n",
    "    special_characters = \"!@#$%^&*\"\n",
    "    numbers = \"0123456789\"\n",
    "\n",
    "    all_chars = uppercase_letters + lowercase_letters + special_characters + numbers\n",
    "\n",
    "    length = int(input(\"Enter password length: \"))\n",
    "\n",
    "    while True:\n",
    "        password = \"\".join(random.sample(all_chars, length))\n",
    "        print(\"Your password: \", password)"
   ]
  },
  {
   "cell_type": "code",
   "execution_count": null,
   "metadata": {},
   "outputs": [],
   "source": [
    "def read_passwords():\n",
    "    with open(\"passwords.txt\", \"r\") as f:\n",
    "        passwords = f.read()\n",
    "        print(passwords)"
   ]
  },
  {
   "cell_type": "code",
   "execution_count": null,
   "metadata": {},
   "outputs": [],
   "source": [
    "def save_password():\n",
    "    print(\"\"\"\n",
    "name/email:\n",
    "password:\n",
    "          \"\"\")\n",
    "    while True:\n",
    "        name_email= input(\"name or email enter: \")\n",
    "        password= input(\"password enter: \")\n",
    "        print(\"name/email: \"+name_email+\"\\n\"+\"password: \"+password )\n",
    "        choice = input(\"did you write correctly y/n: \")\n",
    "        if choice == \"y\" or choice == \"yes\":\n",
    "            with open(\"passwords.txt\", \"a\") as f:\n",
    "                    f.write(shild + \"\\n\"+\"name/email: \"+name_email+\"\\n\"+\"password: \"+password + \"\\n\")\n",
    "            break\n",
    "        if choice == \"n\" or choice == \"no\":\n",
    "            print(\"again\")\n",
    "            return"
   ]
  },
  {
   "cell_type": "code",
   "execution_count": null,
   "metadata": {},
   "outputs": [],
   "source": [
    "while True:\n",
    "    print(\"\"\"    [1] Generate classic password\n",
    "    [2] save password\n",
    "    [3] Read saved passwords\n",
    "    [4] Quit\n",
    "    [5] Update\"\"\")\n",
    "    \n",
    "    choice = int(input(\"Enter your choice: \"))\n",
    "\n",
    "    if choice == 1:\n",
    "        classic_password()\n",
    "\n",
    "    elif choice == 6:\n",
    "        unlimited()\n",
    "\n",
    "    elif choice == 3:\n",
    "        read_passwords()\n",
    "\n",
    "    elif choice == 4:\n",
    "        break\n",
    "    elif choice == 5:\n",
    "        os.system(\"sh update.sh\")\n",
    "\n",
    "    elif choice == 2:\n",
    "        save_password()\n",
    "\n",
    "    else:\n",
    "        print(\"Invalid choice. Please try again.\")"
   ]
  }
 ],
 "metadata": {
  "kernelspec": {
   "display_name": "base",
   "language": "python",
   "name": "python3"
  },
  "language_info": {
   "codemirror_mode": {
    "name": "ipython",
    "version": 3
   },
   "file_extension": ".py",
   "mimetype": "text/x-python",
   "name": "python",
   "nbconvert_exporter": "python",
   "pygments_lexer": "ipython3",
   "version": "3.11.4"
  },
  "orig_nbformat": 4
 },
 "nbformat": 4,
 "nbformat_minor": 2
}

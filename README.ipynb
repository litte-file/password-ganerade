{
 "cells": [
  {
   "cell_type": "markdown",
   "id": "108e3d1f",
   "metadata": {},
   "source": [
    "# passworld ganerade\n",
    "\n",
    ">You can start the python version by typing python3 main.py in the terminal.\n",
    "\n",
    ">Type jupyter notebook mainjnb.ipynb in the terminal to start the jupyter notebook version."
   ]
  }
 ],
 "metadata": {
  "kernelspec": {
   "display_name": "Python 3 (ipykernel)",
   "language": "python",
   "name": "python3"
  },
  "language_info": {
   "codemirror_mode": {
    "name": "ipython",
    "version": 3
   },
   "file_extension": ".py",
   "mimetype": "text/x-python",
   "name": "python",
   "nbconvert_exporter": "python",
   "pygments_lexer": "ipython3",
   "version": "3.11.2"
  }
 },
 "nbformat": 4,
 "nbformat_minor": 5
}

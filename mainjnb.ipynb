{
 "cells": [
  {
   "cell_type": "code",
   "execution_count": 1,
   "id": "adb3987b",
   "metadata": {},
   "outputs": [],
   "source": [
    "import random,os"
   ]
  },
  {
   "cell_type": "code",
   "execution_count": 2,
   "id": "a04b65b5",
   "metadata": {},
   "outputs": [],
   "source": [
    "def classic_password():\n",
    "    u = \"QWERTYUIOPASDFGHJKLZXCVBNM\"\n",
    "\n",
    "    d = \"qazwsxedcrfvtgbyhnujmikol\"\n",
    "\n",
    "    s = \"!@#$%^&*()_+-=`~[{]}\\|;:/?.>,<\"\n",
    "\n",
    "    n = \"0123456789\"\n",
    "\n",
    "    all=u+d+s+n\n",
    "\n",
    "    l = int(input(\"number pls: \"))\n",
    "\n",
    "    p = \"\".join(random.sample(all,l))\n",
    "\n",
    "    print(\"your password: \",p)\n",
    "    x = False\n",
    "    c = input(\"do you accept thist password y/n: \")\n",
    "    if c == \"n\":\n",
    "        classic_password()\n",
    "    if c == \"y\":\n",
    "         t = \"    ||||    \"\n",
    "         f = open(\"passwords.txt\", \"a\")\n",
    "         f.write(p+t)\n",
    "         f.close()\n",
    "         classic_password()\n",
    "        "
   ]
  },
  {
   "cell_type": "code",
   "execution_count": 3,
   "id": "3349fea6",
   "metadata": {},
   "outputs": [],
   "source": [
    "def unlimited(x = True):\n",
    "    u = \"QWERTYUIOPASDFGHJKLZXCVBNM\"\n",
    "\n",
    "    d = \"qazwsxedcrfvtgbyhnujmikol\"\n",
    "\n",
    "    s = \"!@#$%^&*_+-=`~\\|;:/?.>,<\"\n",
    "\n",
    "    n = \"0123456789\"\n",
    "\n",
    "    all=u+d+s+n\n",
    "\n",
    "    l = int(input(\"number pls: \"))\n",
    "    while x == True:\n",
    "        p = \"\".join(random.sample(all,l))\n",
    "\n",
    "        print(\"your password: \",p)\n"
   ]
  },
  {
   "cell_type": "code",
   "execution_count": 4,
   "id": "418ab0e5",
   "metadata": {
    "scrolled": false
   },
   "outputs": [
    {
     "name": "stdout",
     "output_type": "stream",
     "text": [
      "hello\n",
      "    [1]classic passworld\n",
      "    [2]unlimited random password\n",
      "    [3]read my password/passwords\n",
      "    [4]quit\n",
      "pls only number: 4\n"
     ]
    }
   ],
   "source": [
    "x = True\n",
    "print(\"hello\")\n",
    "while x == True:\n",
    "    print(\"\"\"    [1]classic passworld\n",
    "    [2]unlimited random password\n",
    "    [3]read my password/passwords\n",
    "    [4]quit\"\"\")\n",
    "    c = int(input(\"pls only number: \"))\n",
    "    if c == 1:\n",
    "        classic_password()\n",
    "    elif c == 2:\n",
    "        unlimited()\n",
    "    elif c == 3:\n",
    "        f = open(\"passwords.txt\", \"r\")\n",
    "        print(f.read())\n",
    "    elif c == 4:\n",
    "        x = False"
   ]
  }
 ],
 "metadata": {
  "kernelspec": {
   "display_name": "Python 3 (ipykernel)",
   "language": "python",
   "name": "python3"
  },
  "language_info": {
   "codemirror_mode": {
    "name": "ipython",
    "version": 3
   },
   "file_extension": ".py",
   "mimetype": "text/x-python",
   "name": "python",
   "nbconvert_exporter": "python",
   "pygments_lexer": "ipython3",
   "version": "3.10.9"
  }
 },
 "nbformat": 4,
 "nbformat_minor": 5
}

{
 "cells": [
  {
   "cell_type": "code",
   "execution_count": 1,
   "id": "adb3987b",
   "metadata": {},
   "outputs": [],
   "source": [
    "import random"
   ]
  },
  {
   "cell_type": "code",
   "execution_count": 2,
   "id": "a04b65b5",
   "metadata": {},
   "outputs": [],
   "source": [
    "def classic_password():\n",
    "    u = \"QWERTYUIOPASDFGHJKLZXCVBNM\"\n",
    "\n",
    "    d = \"qazwsxedcrfvtgbyhnujmikol\"\n",
    "\n",
    "    s = \"!@#$%^&*()_+-=`~[{]}\\|;:/?.>,<\"\n",
    "\n",
    "    n = \"0123456789\"\n",
    "\n",
    "    all=u+d+s+n\n",
    "\n",
    "    l = int(input(\"number pls: \"))\n",
    "\n",
    "    p = \"\".join(random.sample(all,l))\n",
    "\n",
    "    print(\"your password: \",p)\n",
    "    x = False"
   ]
  },
  {
   "cell_type": "code",
   "execution_count": 3,
   "id": "3349fea6",
   "metadata": {},
   "outputs": [],
   "source": [
    "def unlimited(x = True):\n",
    "    u = \"QWERTYUIOPASDFGHJKLZXCVBNM\"\n",
    "\n",
    "    d = \"qazwsxedcrfvtgbyhnujmikol\"\n",
    "\n",
    "    s = \"!@#$%^&*_+-=`~\\|;:/?.>,<\"\n",
    "\n",
    "    n = \"0123456789\"\n",
    "\n",
    "    all=u+d+s+n\n",
    "\n",
    "    l = int(input(\"number pls: \"))\n",
    "    while x == True:\n",
    "        p = \"\".join(random.sample(all,l))\n",
    "\n",
    "        print(\"your password: \",p)\n"
   ]
  },
  {
   "cell_type": "code",
   "execution_count": null,
   "id": "418ab0e5",
   "metadata": {},
   "outputs": [
    {
     "name": "stdout",
     "output_type": "stream",
     "text": [
      "hello\n",
      "    [1]classic passworld\n",
      "    [2]unlimited random password\n",
      "    [3]quit\n",
      "pls only number: 1\n",
      "number pls: 20\n",
      "your password:  zTF|4Vfq=jQ8E&d5_@~S\n",
      "    [1]classic passworld\n",
      "    [2]unlimited random password\n",
      "    [3]quit\n"
     ]
    }
   ],
   "source": [
    "x = True\n",
    "print(\"hello\")\n",
    "while x == True:\n",
    "    print(\"\"\"    [1]classic passworld\n",
    "    [2]unlimited random password\n",
    "    [3]quit\"\"\")\n",
    "    c = int(input(\"pls only number: \"))\n",
    "    if c == 1:\n",
    "        classic_password()\n",
    "    elif c == 2:\n",
    "        unlimited()\n",
    "    elif c == 3:\n",
    "        x = False"
   ]
  },
  {
   "cell_type": "code",
   "execution_count": null,
   "id": "6695899d",
   "metadata": {},
   "outputs": [],
   "source": []
  }
 ],
 "metadata": {
  "kernelspec": {
   "display_name": "Python 3 (ipykernel)",
   "language": "python",
   "name": "python3"
  },
  "language_info": {
   "codemirror_mode": {
    "name": "ipython",
    "version": 3
   },
   "file_extension": ".py",
   "mimetype": "text/x-python",
   "name": "python",
   "nbconvert_exporter": "python",
   "pygments_lexer": "ipython3",
   "version": "3.9.13"
  }
 },
 "nbformat": 4,
 "nbformat_minor": 5
}
